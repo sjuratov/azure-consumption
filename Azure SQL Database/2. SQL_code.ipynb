{
    "metadata": {
        "kernelspec": {
            "name": "SQL",
            "display_name": "SQL",
            "language": "sql"
        },
        "language_info": {
            "name": "sql",
            "version": ""
        }
    },
    "nbformat_minor": 2,
    "nbformat": 4,
    "cells": [
        {
            "cell_type": "markdown",
            "source": [
                "**Use SQL kernel to run code in this notebook**  \n",
                "\n",
                "This notebook provides code that creates Azure SQL Database objects, required for Logic App integration.\n",
                "\n",
                "Assumtion is that Azure SQL Database already exists.\n",
                "\n",
                "First we'll create Azure SQL Database schema. AzureConsumption can be replaced with any other valid schema name, in which case, code that follows will need to be changed to reflect different schema name."
            ],
            "metadata": {
                "azdata_cell_guid": "1ad0194d-af9e-46b9-9c27-c1347c836ac3"
            },
            "attachments": {}
        },
        {
            "cell_type": "code",
            "source": [
                "CREATE SCHEMA AzureConsumption;"
            ],
            "metadata": {
                "azdata_cell_guid": "1be3cff9-7e12-423d-8099-ea0ea025c47d"
            },
            "outputs": [],
            "execution_count": null
        },
        {
            "cell_type": "markdown",
            "source": [
                "Now we can create Usage table where Azure usage data will be stored. Data will be retreived using Azure Consumption Usage Details REST API - [Usage Details - List - REST API (Azure Consumption) | Microsoft Docs](https://docs.microsoft.com/en-us/rest/api/consumption/usage-details/list)\n",
                "\n",
                "Note: Last three \"tags\" columns assume that Azure resources are tagged with Environment, Owner and Cost Center tags. These tags can be removed or changed to fit specific implementation."
            ],
            "metadata": {
                "azdata_cell_guid": "fe3ef5cc-24d2-42f8-bd51-b4bcae6c6993"
            },
            "attachments": {}
        },
        {
            "cell_type": "code",
            "source": [
                "CREATE TABLE [AzureConsumption].[Usage]\n",
                "(\n",
                "    subscriptionId char(512),\n",
                "    datetime char(512),\n",
                "    quantity float,\n",
                "    effectivePrice float,\n",
                "    cost float,\n",
                "    billingCurrency char(512),\n",
                "    resourceId char(512),\n",
                "    resourceName char(512),\n",
                "    resourceGroup char(512),\n",
                "    consumedService char(512),\n",
                "    tagsEnvironment char(512),\n",
                "    tagsOwner char(512),\n",
                "    tagsCostCenter char(512)\n",
                ")\n",
                ";"
            ],
            "metadata": {
                "azdata_cell_guid": "70aea985-e1df-4fe4-8a2a-7e495ea36f3e"
            },
            "outputs": [],
            "execution_count": null
        },
        {
            "cell_type": "markdown",
            "source": [
                "Next is stored procedure that will upsert (update or insert) records"
            ],
            "metadata": {
                "azdata_cell_guid": "16646754-fef0-48f0-b2ea-ba5711b7139e"
            },
            "attachments": {}
        },
        {
            "cell_type": "code",
            "source": [
                "SET ANSI_NULLS ON\n",
                "GO\n",
                "SET QUOTED_IDENTIFIER ON\n",
                "GO\n",
                "CREATE PROCEDURE [AzureConsumption].[sp_UpsertUsage]\n",
                "(\n",
                "    @subscriptionId char(512),\n",
                "    @datetime char(512),\n",
                "    @quantity float,\n",
                "    @effectivePrice float,\n",
                "    @cost float,\n",
                "    @billingCurrency char(512),\n",
                "    @resourceId char(512),\n",
                "    @resourceName char(512),\n",
                "    @resourceGroup char(512),\n",
                "    @consumedService char(512),\n",
                "    @tagsEnvironment char(512),\n",
                "    @tagsOwner char(512),\n",
                "    @tagsCostCenter char(512)\n",
                ")\n",
                "AS\n",
                "BEGIN\n",
                "    IF EXISTS (SELECT 1 FROM [AzureConsumption].[Usage]\n",
                "    WHERE subscriptionId = @subscriptionId\n",
                "    AND datetime = @datetime\n",
                "    AND resourceId = @resourceId\n",
                "    AND resourceName = @resourceName\n",
                "    AND resourceGroup = @resourceGroup\n",
                "    AND consumedService = @consumedService\n",
                "    AND quantity = @quantity\n",
                "    AND effectivePrice = @effectivePrice\n",
                "    AND cost = @cost\n",
                "    AND billingCurrency = @billingCurrency\n",
                "\t)\n",
                "    BEGIN\n",
                "        UPDATE [AzureConsumption].[Usage] SET \n",
                "            tagsEnvironment = @tagsEnvironment,\n",
                "            tagsOwner = @tagsOwner,\n",
                "            tagsCostCenter = @tagsCostCenter\n",
                "        WHERE subscriptionId = @subscriptionId\n",
                "        AND datetime = @datetime\n",
                "        AND resourceId = @resourceId\n",
                "        AND resourceGroup = @resourceGroup\n",
                "\tPRINT 'Usage Data Updated'\n",
                "    END\n",
                "ELSE\n",
                "    BEGIN\n",
                "        INSERT INTO [AzureConsumption].[Usage] VALUES (@subscriptionId, @datetime, @quantity, @effectivePrice, @cost, @billingCurrency, @resourceId, @resourceName, @resourceGroup, @consumedService, @tagsEnvironment, @tagsOwner, @tagsCostCenter)\n",
                "\tPRINT 'New Usage Data Inserted'\n",
                "    END\n",
                "END\n",
                "GO\n",
                ""
            ],
            "metadata": {
                "azdata_cell_guid": "f01eb0ca-e845-4115-8887-6ba5b334248d"
            },
            "outputs": [],
            "execution_count": null
        },
        {
            "cell_type": "markdown",
            "source": [
                "At this point, stored procedure can be tested with sample data ..."
            ],
            "metadata": {
                "azdata_cell_guid": "0ffd6854-98a0-4df4-8841-7b84f02f72d5"
            },
            "attachments": {}
        },
        {
            "cell_type": "code",
            "source": [
                "EXEC [AzureConsumption].[sp_UpsertUsage] 'F89D5FA7-353B-4486-8700-99FC72E6AAAA','2021-11-01T00:00:00.0000000Z','0.333336','0.059046','0.019682157456','CHF','/subscriptions/f89d5fa7-353b-4486-8700-99fc72e6aaaa/resourceGroups/platform/providers/Microsoft.Storage/storageAccounts/teststorageaccount','teststorageaccount','platform','Microsoft.Storage','Dev','',''"
            ],
            "metadata": {
                "azdata_cell_guid": "ce591299-fa84-49d8-b778-6e7b1e9149f2"
            },
            "outputs": [],
            "execution_count": null
        },
        {
            "cell_type": "markdown",
            "source": [
                "To allow Logic App to access relevant Azure SQL Database objects (e.g. table, stored procedure), new user and role need to be created.\n",
                "\n",
                "In example below, _logic\\_app\\_azure\\_consumption_ is a name of Logic App.\n",
                "\n",
                "Note: db\\_datawriter and db\\_datareader roles are not enough because Logic App can't see stored procedure. db\\_owner works but possibly some other less priviledged role might work."
            ],
            "metadata": {
                "azdata_cell_guid": "f752b1ce-a3e1-46ec-b56f-447d367c49c9"
            },
            "attachments": {}
        },
        {
            "cell_type": "code",
            "source": [
                "DROP USER IF EXISTS logic_app_azure_consumption /* Remove user, in case user with same name already exists */"
            ],
            "metadata": {
                "azdata_cell_guid": "8cace7ff-25c3-469a-ac33-e03b11e6168a"
            },
            "outputs": [],
            "execution_count": null
        },
        {
            "cell_type": "code",
            "source": [
                "DECLARE @LogicAppName VARCHAR(50)\n",
                "DECLARE @cmd VARCHAR(200)\n",
                "\n",
                "/* Change LogicAppName value to reflect provisioned Logic App name */\n",
                "SET @LogicAppName = N'<Logic App name>'\n",
                "\n",
                "/* Remove user, in case user with same name already exists */\n",
                "SET @cmd = 'DROP USER IF EXISTS ' + @LogicAppName\n",
                "EXEC(@cmd)\n",
                "\n",
                "\n",
                "SET @cmd = 'CREATE USER ' + @LogicAppName + ' FROM EXTERNAL PROVIDER'\n",
                "EXEC(@cmd)\n",
                "\n",
                "SET @cmd = 'ALTER ROLE db_owner ADD MEMBER ' + @LogicAppName\n",
                "EXEC(@cmd)"
            ],
            "metadata": {
                "azdata_cell_guid": "2ecb564e-418a-403d-a391-8b3e8dc1bb6f"
            },
            "outputs": [],
            "execution_count": null
        },
        {
            "cell_type": "markdown",
            "source": [
                "Below is some utility code that can help with testing ..."
            ],
            "metadata": {
                "azdata_cell_guid": "242408f4-2f75-497f-80be-b559ce8dcea4"
            },
            "attachments": {}
        },
        {
            "cell_type": "code",
            "source": [
                "DROP TABLE [AzureConsumption].[Usage] /* In case Usage table needs to be deleted */"
            ],
            "metadata": {
                "azdata_cell_guid": "224cad56-03ef-415c-ae91-46d115f7ce4a"
            },
            "outputs": [],
            "execution_count": null
        },
        {
            "cell_type": "code",
            "source": [
                "DROP PROCEDURE [AzureConsumption].[sp_UpsertUsage] /* In case stored procedure needs to be deleted */"
            ],
            "metadata": {
                "azdata_cell_guid": "ad372657-d7ea-4aaa-8974-539e49478d41"
            },
            "outputs": [],
            "execution_count": null
        },
        {
            "cell_type": "code",
            "source": [
                "SELECT TOP (1000) * FROM [AzureConsumption].[Usage] ORDER BY datetime /* Is there anything in the table? */"
            ],
            "metadata": {
                "azdata_cell_guid": "7c444204-ad86-49c2-b980-f15dbf1c9d27"
            },
            "outputs": [],
            "execution_count": null
        },
        {
            "cell_type": "code",
            "source": [
                "DELETE from [AzureConsumption].[Usage] /* In case records from Usage table need to be deleted */"
            ],
            "metadata": {
                "azdata_cell_guid": "d606e018-29ea-47b1-93f8-c18740fb3b7c"
            },
            "outputs": [],
            "execution_count": null
        }
    ]
}