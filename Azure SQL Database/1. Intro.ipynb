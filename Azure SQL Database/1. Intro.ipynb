{
    "metadata": {
        "kernelspec": {
            "name": "powershell",
            "display_name": "PowerShell",
            "language": "powershell"
        },
        "language_info": {
            "name": "powershell",
            "codemirror_mode": "shell",
            "mimetype": "text/x-sh",
            "file_extension": ".ps1"
        }
    },
    "nbformat_minor": 2,
    "nbformat": 4,
    "cells": [
        {
            "cell_type": "markdown",
            "source": [
                "**Use PowerShell kernel to run code in this notebook**\n",
                "\n",
                "This notebook provides code that creates Logic App and related required artifacts.\n",
                "\n",
                "Assumption is that following prerequisits are already in place:\n",
                "\n",
                "- Azure Subscription\n",
                "- Azure SQL Database\n",
                "- Azure CLI (w/ Bicep extension)\n",
                "- Azure Data Studio (not strictly required but recommended)"
            ],
            "metadata": {
                "azdata_cell_guid": "97b8e513-bcbf-4b49-9f8b-be90550b85f5"
            },
            "attachments": {}
        },
        {
            "cell_type": "markdown",
            "source": [
                "First open PowerShell, set some variables and login to Azure.\n",
                "\n",
                "Note: Update variables below fit specific needs"
            ],
            "metadata": {
                "azdata_cell_guid": "83f182ea-3d9a-4c01-8dc8-58149a689cbf"
            },
            "attachments": {}
        },
        {
            "cell_type": "code",
            "source": [
                "$azure_subscription = '<Subscription ID>'\r\n",
                "$azure_region = '<Location>'\r\n",
                "$azure_resource_group = '<Resource group>'\r\n",
                "\r\n",
                "$logic_app_bicep_template = 'Azure Consumption\\Azure SQL Database\\Bicep\\Daily.bicep'\r\n",
                "$logic_app_name = '<Logic App name>'\r\n",
                "\r\n",
                "$api_connection_name_suffix = '<suffix>'\r\n",
                "\r\n",
                "$azure_sql_server = '<SQL server name>'\r\n",
                "$azure_sql_database = '<SQL database name>'\r\n",
                "$azure_sql_database_stored_procedure = '<SQL stored procedure>'\r\n",
                "\r\n",
                "az login"
            ],
            "metadata": {
                "azdata_cell_guid": "893cfefe-dc93-4d5b-8512-0aa0af013ae8"
            },
            "outputs": [],
            "execution_count": null
        },
        {
            "cell_type": "markdown",
            "source": [
                "Run following command, in case some az extensions are missing and need to be installed. Installation will happen automatically and without prompt"
            ],
            "metadata": {
                "azdata_cell_guid": "3c7c808c-e77d-4b3d-8d2b-11591aa4452b"
            },
            "attachments": {}
        },
        {
            "cell_type": "code",
            "source": [
                "az config set extension.use_dynamic_install=yes_without_prompt"
            ],
            "metadata": {
                "azdata_cell_guid": "47824a55-6813-40ae-8a1e-03ad3abb4158"
            },
            "outputs": [],
            "execution_count": null
        },
        {
            "cell_type": "markdown",
            "source": [
                "Create Resource Group that will hold required Azure resources. Next cell can be skipped in case an existing Resource Group will be used"
            ],
            "metadata": {
                "azdata_cell_guid": "bc93c8e4-8223-4723-ad77-cf51dec30add"
            },
            "attachments": {}
        },
        {
            "cell_type": "code",
            "source": [
                "az group create     -l $azure_region `\r\n",
                "                    -n $azure_resource_group"
            ],
            "metadata": {
                "azdata_cell_guid": "06a7e87d-044a-4a56-a245-14d8dc93d05c"
            },
            "outputs": [],
            "execution_count": null
        },
        {
            "cell_type": "markdown",
            "source": [
                "Logic App with all code already is saved as Bicep template. Following cell will create Logic App"
            ],
            "metadata": {
                "azdata_cell_guid": "9478b64f-0760-4007-a3ec-99ad5fdc1f39"
            },
            "attachments": {}
        },
        {
            "cell_type": "code",
            "source": [
                "az deployment group create  --resource-group $azure_resource_group `\r\n",
                "                            --template-file $logic_app_bicep_template `\r\n",
                "                            --parameters    azure_subscription=$azure_subscription `\r\n",
                "                                            api_connection_name_suffix=$api_connection_name_suffix `\r\n",
                "                                            logic_app_name=$logic_app_name `\r\n",
                "                                            azure_sql_server=$azure_sql_server `\r\n",
                "                                            azure_sql_database=$azure_sql_database `\r\n",
                "                                            azure_sql_database_stored_procedure=$azure_sql_database_stored_procedure `"
            ],
            "metadata": {
                "azdata_cell_guid": "751eea87-58d3-43ca-814a-3c2fd13afa58",
                "tags": []
            },
            "outputs": [],
            "execution_count": null
        },
        {
            "cell_type": "markdown",
            "source": [
                "Logic App is created as Disabled. Before it can be run, it needs to be enabled. Code in cell below _should_ do this, but it appears there is a bug - reported here - [\"az logic workflow update\" removes API connection · Issue #20807 · Azure/azure-cli (github.com)](https://github.com/Azure/azure-cli/issues/20807)\n",
                "\n",
                "Until issue is resolved, Logic App can be enabled in Azure Portal."
            ],
            "metadata": {
                "azdata_cell_guid": "78f77782-1091-4aa8-852f-03080d8e869d"
            },
            "attachments": {}
        },
        {
            "cell_type": "code",
            "source": [
                "#az logic workflow update --name $logic_app_name `\r\n",
                "#                         --resource-group $azure_resource_group `\r\n",
                "#                         --state Enabled"
            ],
            "metadata": {
                "azdata_cell_guid": "20ccaa96-9ae0-4bd2-9703-78c2b68bf637"
            },
            "outputs": [],
            "execution_count": null
        },
        {
            "cell_type": "markdown",
            "source": [
                "Logic App needs to call Azure Consumption REST API and for that requires Reader RBAC at subscription level.\n",
                "\n",
                "First, get Logic App managed identity"
            ],
            "metadata": {
                "azdata_cell_guid": "5fe283f0-4b4b-4e90-9160-d5ade3cdb829"
            },
            "attachments": {}
        },
        {
            "cell_type": "code",
            "source": [
                "$logic_app_id = az resource show    --name $logic_app_name `\r\n",
                "                                    --resource-group $azure_resource_group `\r\n",
                "                                    --resource-type Microsoft.Logic/workflows `\r\n",
                "                                    --query identity.principalId | ConvertFrom-Json"
            ],
            "metadata": {
                "azdata_cell_guid": "68016c24-ce9a-4d60-939f-2d16e4e20bff"
            },
            "outputs": [],
            "execution_count": null
        },
        {
            "cell_type": "markdown",
            "source": [
                "Now grant Logic App managed identity Reader RBAC at subscription level"
            ],
            "metadata": {
                "azdata_cell_guid": "c5d97e0f-6495-464f-b579-a8d03f251bea"
            },
            "attachments": {}
        },
        {
            "cell_type": "code",
            "source": [
                "az role assignment create   --assignee $logic_app_id `\r\n",
                "                            --role Reader `\r\n",
                "                            --subscription $azure_subscription"
            ],
            "metadata": {
                "azdata_cell_guid": "e8a777f2-aa32-4187-9258-6dd0c0905bc8",
                "tags": []
            },
            "outputs": [],
            "execution_count": null
        },
        {
            "cell_type": "markdown",
            "source": [
                "In addition, Logic App needs access to Azure SQL Database.\n",
                "\n",
                "Open _2\\. SQL\\_code.ipynb,_ find cell to create user in Azure SQL Database (representing Logic App managed identity) and role"
            ],
            "metadata": {
                "azdata_cell_guid": "b75e8262-1e79-45d1-a7c2-94196e2407c6"
            },
            "attachments": {}
        },
        {
            "cell_type": "markdown",
            "source": [
                "At this point, go to Azure Portal and execute Logic App. All being well, Logic App should be able to call Azure Consumption REST API and upsert data in SQL table"
            ],
            "metadata": {
                "azdata_cell_guid": "61b1be1f-db91-4e21-aaa7-c123beeefad1"
            },
            "attachments": {}
        }
    ]
}