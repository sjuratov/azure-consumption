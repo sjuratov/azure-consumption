{
    "cells": [
        {
            "attachments": {},
            "cell_type": "markdown",
            "metadata": {
                "azdata_cell_guid": "97b8e513-bcbf-4b49-9f8b-be90550b85f5"
            },
            "source": [
                "**Use PowerShell kernel to run code in this notebook**\n",
                "\n",
                "This notebook provides code that creates Logic App and related required artifacts.\n",
                "\n",
                "Assumption is that following prerequisits are already in place:\n",
                "\n",
                "- Azure Subscription\n",
                "- Azure Storage Account\n",
                "- Azure CLI (w/ Bicep extension)"
            ]
        },
        {
            "attachments": {},
            "cell_type": "markdown",
            "metadata": {
                "azdata_cell_guid": "83f182ea-3d9a-4c01-8dc8-58149a689cbf"
            },
            "source": [
                "First open PowerShell, set some variables and login to Azure.\n",
                "\n",
                "Note: Update variables below fit specific needs"
            ]
        },
        {
            "cell_type": "code",
            "execution_count": null,
            "metadata": {
                "azdata_cell_guid": "893cfefe-dc93-4d5b-8512-0aa0af013ae8"
            },
            "outputs": [],
            "source": [
                "\n",
                "$azure_subscription = '<Subscription ID>'\n",
                "$azure_region = '<Location>'\n",
                "$azure_resource_group = '<Resource group>'\n",
                "\n",
                "$logic_app_bicep_template = 'Bicep\\Daily.bicep'\n",
                "$logic_app_name = '<Logic App name>'\n",
                "\n",
                "$api_connection_name_suffix = '<suffix>'\n",
                "\n",
                "$azure_storage_account = '<Storage account name>'\n",
                "$azure_storage_account_folder_path = '<Storage account folder path>'\n",
                "$azure_storage_account_resource_group = '<Storage account resource group>'\n",
                "\n",
                "az login"
            ]
        },
        {
            "attachments": {},
            "cell_type": "markdown",
            "metadata": {
                "azdata_cell_guid": "3c7c808c-e77d-4b3d-8d2b-11591aa4452b"
            },
            "source": [
                "Run following command, in case some az extensions are missing and need to be installed. Installation will happen automatically and without prompt"
            ]
        },
        {
            "cell_type": "code",
            "execution_count": null,
            "metadata": {
                "azdata_cell_guid": "47824a55-6813-40ae-8a1e-03ad3abb4158"
            },
            "outputs": [],
            "source": [
                "az config set extension.use_dynamic_install=yes_without_prompt"
            ]
        },
        {
            "attachments": {},
            "cell_type": "markdown",
            "metadata": {
                "azdata_cell_guid": "bc93c8e4-8223-4723-ad77-cf51dec30add"
            },
            "source": [
                "Create Resource Group that will hold required Azure resources. Next cell can be skipped in case an existing Resource Group will be used"
            ]
        },
        {
            "cell_type": "code",
            "execution_count": null,
            "metadata": {
                "azdata_cell_guid": "06a7e87d-044a-4a56-a245-14d8dc93d05c"
            },
            "outputs": [],
            "source": [
                "az group create     -l $azure_region `\n",
                "                    -n $azure_resource_group"
            ]
        },
        {
            "attachments": {},
            "cell_type": "markdown",
            "metadata": {
                "azdata_cell_guid": "9478b64f-0760-4007-a3ec-99ad5fdc1f39"
            },
            "source": [
                "Logic App with all code already is saved as Bicep template. Following cell will create Logic App"
            ]
        },
        {
            "cell_type": "code",
            "execution_count": null,
            "metadata": {
                "azdata_cell_guid": "751eea87-58d3-43ca-814a-3c2fd13afa58",
                "tags": []
            },
            "outputs": [],
            "source": [
                "az deployment group create  --resource-group $azure_resource_group `\n",
                "                            --template-file $logic_app_bicep_template `\n",
                "                            --parameters    azure_subscription=$azure_subscription `\n",
                "                                            api_connection_name_suffix=$api_connection_name_suffix `\n",
                "                                            logic_app_name=$logic_app_name `\n",
                "                                            azure_storage_account=$azure_storage_account `\n",
                "                                            azure_storage_account_folder_path=$azure_storage_account_folder_path"
            ]
        },
        {
            "attachments": {},
            "cell_type": "markdown",
            "metadata": {
                "azdata_cell_guid": "78f77782-1091-4aa8-852f-03080d8e869d"
            },
            "source": [
                "Logic App is created as Disabled. Before it can be run, it needs to be enabled. Code in cell below _should_ do this, but it appears there is a bug - reported here - [\"az logic workflow update\" removes API connection · Issue #20807 · Azure/azure-cli (github.com)](https://github.com/Azure/azure-cli/issues/20807)\n",
                "\n",
                "Until issue is resolved, Logic App can be enabled in Azure Portal."
            ]
        },
        {
            "cell_type": "code",
            "execution_count": null,
            "metadata": {
                "azdata_cell_guid": "20ccaa96-9ae0-4bd2-9703-78c2b68bf637"
            },
            "outputs": [],
            "source": [
                "#az logic workflow update --name $logic_app_name `\n",
                "#                         --resource-group $azure_resource_group `\n",
                "#                         --state Enabled"
            ]
        },
        {
            "attachments": {},
            "cell_type": "markdown",
            "metadata": {
                "azdata_cell_guid": "5fe283f0-4b4b-4e90-9160-d5ade3cdb829"
            },
            "source": [
                "Logic App needs to call Azure Consumption REST API and for that requires Reader RBAC at subscription level.\n",
                "\n",
                "First, get Logic App managed identity"
            ]
        },
        {
            "cell_type": "code",
            "execution_count": null,
            "metadata": {
                "azdata_cell_guid": "68016c24-ce9a-4d60-939f-2d16e4e20bff"
            },
            "outputs": [],
            "source": [
                "$logic_app_id = az resource show    --name $logic_app_name `\n",
                "                                    --resource-group $azure_resource_group `\n",
                "                                    --resource-type Microsoft.Logic/workflows `\n",
                "                                    --query identity.principalId | ConvertFrom-Json"
            ]
        },
        {
            "attachments": {},
            "cell_type": "markdown",
            "metadata": {
                "azdata_cell_guid": "c5d97e0f-6495-464f-b579-a8d03f251bea"
            },
            "source": [
                "Now grant Logic App managed identity Reader RBAC at subscription level"
            ]
        },
        {
            "cell_type": "code",
            "execution_count": null,
            "metadata": {
                "azdata_cell_guid": "e8a777f2-aa32-4187-9258-6dd0c0905bc8",
                "tags": []
            },
            "outputs": [],
            "source": [
                "az role assignment create   --assignee $logic_app_id `\n",
                "                            --role Reader `\n",
                "                            --subscription $azure_subscription"
            ]
        },
        {
            "cell_type": "markdown",
            "metadata": {},
            "source": [
                "Logic App needs Storage Blob Data Contributor RBAC on storage account where data will be stored"
            ]
        },
        {
            "cell_type": "code",
            "execution_count": null,
            "metadata": {},
            "outputs": [],
            "source": [
                "az role assignment create   --assignee $logic_app_id `\n",
                "                            --role 'Storage Blob Data Contributor' `\n",
                "                            --scope \"/subscriptions/$azure_subscription/resourceGroups/$azure_storage_account_resource_group/providers/Microsoft.Storage/storageAccounts/$azure_storage_account\""
            ]
        },
        {
            "attachments": {},
            "cell_type": "markdown",
            "metadata": {
                "azdata_cell_guid": "61b1be1f-db91-4e21-aaa7-c123beeefad1"
            },
            "source": [
                "At this point, go to Azure Portal and execute Logic App. All being well, Logic App should be able to call Azure Consumption REST API and create CSV file in storage account.\n",
                "\n",
                "Note: It can take a few minutes for RBAC's to become effective. If Logic App returns 403 error when trying to make REST API call or write data to storage account, wait for another few minutes and try again."
            ]
        }
    ],
    "metadata": {
        "interpreter": {
            "hash": "a12106a18346b23f7fa7e814db9515e5e209cfeea7ded81e6f53dc5784bf1643"
        },
        "kernelspec": {
            "display_name": "PowerShell",
            "language": "powershell",
            "name": "powershell"
        },
        "language_info": {
            "codemirror_mode": "shell",
            "file_extension": ".ps1",
            "mimetype": "text/x-sh",
            "name": "powershell"
        }
    },
    "nbformat": 4,
    "nbformat_minor": 2
}
